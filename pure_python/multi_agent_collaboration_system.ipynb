{
 "cells": [
  {
   "cell_type": "markdown",
   "metadata": {},
   "source": [
    "# History and Data Analysis Collaboration System\n",
    "\n",
    "## Overview\n",
    "This notebook implements a multi-agent collaboration system that combines historical research with data analysis to answer complex historical questions. It leverages the power of large language models to simulate specialized agents working together to provide comprehensive answers.\n",
    "\n",
    "## Motivation\n",
    "Historical analysis often requires both deep contextual understanding and quantitative data interpretation. By creating a system that combines these two aspects, we aim to provide more robust and insightful answers to complex historical questions. This approach mimics real-world collaboration between historians and data analysts, potentially leading to more nuanced and data-driven historical insights.\n",
    "\n",
    "## Key Components\n",
    "1. **Agent Class**: A base class for creating specialized AI agents.\n",
    "2. **HistoryResearchAgent**: Specialized in historical context and trends.\n",
    "3. **DataAnalysisAgent**: Focused on interpreting numerical data and statistics.\n",
    "4. **HistoryDataCollaborationSystem**: Orchestrates the collaboration between agents.\n",
    "\n",
    "## Method Details\n",
    "The collaboration system follows these steps:\n",
    "1. **Historical Context**: The History Agent provides relevant historical background.\n",
    "2. **Data Needs Identification**: The Data Agent determines what quantitative information is needed.\n",
    "3. **Historical Data Provision**: The History Agent supplies relevant historical data.\n",
    "4. **Data Analysis**: The Data Agent interprets the provided historical data.\n",
    "5. **Final Synthesis**: The History Agent combines all insights into a comprehensive answer.\n",
    "\n",
    "This iterative process allows for a back-and-forth between historical context and data analysis, mimicking real-world collaborative research.\n",
    "\n",
    "## Conclusion\n",
    "The History and Data Analysis Collaboration System demonstrates the potential of multi-agent AI systems in tackling complex, interdisciplinary questions. By combining the strengths of historical research and data analysis, it offers a novel approach to understanding historical trends and events. This system could be valuable for researchers, educators, and anyone interested in gaining deeper insights into historical topics.\n",
    "\n",
    "Future improvements could include adding more specialized agents, incorporating external data sources, and refining the collaboration process for even more nuanced analyses."
   ]
  },
  {
   "cell_type": "markdown",
   "metadata": {},
   "source": [
    "### Import required libraries"
   ]
  },
  {
   "cell_type": "code",
   "execution_count": 1,
   "metadata": {},
   "outputs": [],
   "source": [
    "import os\n",
    "import time\n",
    "\n",
    "from openai import OpenAI\n",
    "from typing import List, Dict\n",
    "from dotenv import load_dotenv\n",
    "\n",
    "# Initialize OpenAI client\n",
    "client = OpenAI()\n",
    "\n",
    "# Load environment variables\n",
    "load_dotenv()\n",
    "openai_api_key = os.getenv(\"OPENAI_API_KEY\")\n",
    "openai_base_url = os.getenv(\"OPENAI_BASE_URL\")"
   ]
  },
  {
   "cell_type": "markdown",
   "metadata": {},
   "source": [
    "### Define the base Agent class"
   ]
  },
  {
   "cell_type": "code",
   "execution_count": 2,
   "metadata": {},
   "outputs": [],
   "source": [
    "class Agent:\n",
    "    def __init__(self, name: str, role: str, skills: List[str]):\n",
    "        self.name = name\n",
    "        self.role = role\n",
    "        self.skills = skills\n",
    "\n",
    "    def process(self, task: str, context: List[str] = None) -> str:\n",
    "        messages = [\n",
    "            {\"role\": \"system\", \"content\": f\"You are {self.name}, a {self.role}. Your skills include: {', '.join(self.skills)}. Respond to the task based on your role and skills.\"}\n",
    "        ]\n",
    "        \n",
    "        if context:\n",
    "            messages.extend(context)\n",
    "\n",
    "        messages.append({\"role\": \"user\", \"content\": f\"Task: {task}\"})\n",
    "        \n",
    "        response = client.chat.completions.create(\n",
    "            model=\"gpt-4o-mini\",\n",
    "            messages=messages,\n",
    "            temperature=0.7,\n",
    "            max_tokens=1000,\n",
    "        )\n",
    "        return response.choices[0].message.content"
   ]
  },
  {
   "cell_type": "markdown",
   "metadata": {},
   "source": [
    "### Define specialized agents: HistoryResearchAgent and DataAnalysisAgent"
   ]
  },
  {
   "cell_type": "code",
   "execution_count": 3,
   "metadata": {},
   "outputs": [],
   "source": [
    "class HistoryResearchAgent(Agent):\n",
    "    def __init__(self):\n",
    "        super().__init__(\"Clio\", \"History Research Specialist\", [\"deep knowledge of historical events\", \"understanding of historical contexts\", \"identifying historical trends\"])\n",
    "\n",
    "class DataAnalysisAgent(Agent):\n",
    "    def __init__(self):\n",
    "        super().__init__(\"Data\", \"Data Analysis Expert\", [\"interpreting numerical data\", \"statistical analysis\", \"data visualization description\"])"
   ]
  },
  {
   "cell_type": "markdown",
   "metadata": {},
   "source": [
    "### Define the different functions for the collaboration system"
   ]
  },
  {
   "cell_type": "markdown",
   "metadata": {},
   "source": [
    "#### Research Historical Context"
   ]
  },
  {
   "cell_type": "code",
   "execution_count": 4,
   "metadata": {},
   "outputs": [],
   "source": [
    "def research_historical_context(history_agent, task: str, context: list) -> list:\n",
    "    print(\"🏛️ History Agent: Researching historical context...\")\n",
    "    history_task = f\"Provide relevant historical context and information for the following task: {task}\"\n",
    "    history_result = history_agent.process(history_task)\n",
    "    context.append({\"role\": \"assistant\", \"content\": f\"History Agent: {history_result}\"})\n",
    "    print(f\"📜 Historical context provided: {history_result[:100]}...\\n\")\n",
    "    return context"
   ]
  },
  {
   "cell_type": "markdown",
   "metadata": {},
   "source": [
    "#### Identify Data Needs"
   ]
  },
  {
   "cell_type": "code",
   "execution_count": 5,
   "metadata": {},
   "outputs": [],
   "source": [
    "def identify_data_needs(data_agent, task: str, context: list) -> list:\n",
    "    print(\"📊 Data Agent: Identifying data needs based on historical context...\")\n",
    "    historical_context = context[-1][\"content\"]\n",
    "    data_need_task = f\"Based on the historical context, what specific data or statistical information would be helpful to answer the original question? Historical context: {historical_context}\"\n",
    "    data_need_result = data_agent.process(data_need_task, context)\n",
    "    context.append({\"role\": \"assistant\", \"content\": f\"Data Agent: {data_need_result}\"})\n",
    "    print(f\"🔍 Data needs identified: {data_need_result[:100]}...\\n\")\n",
    "    return context"
   ]
  },
  {
   "cell_type": "markdown",
   "metadata": {},
   "source": [
    "#### Provide Historical Data"
   ]
  },
  {
   "cell_type": "code",
   "execution_count": 6,
   "metadata": {},
   "outputs": [],
   "source": [
    "def provide_historical_data(history_agent, task: str, context: list) -> list:\n",
    "    print(\"🏛️ History Agent: Providing relevant historical data...\")\n",
    "    data_needs = context[-1][\"content\"]\n",
    "    data_provision_task = f\"Based on the data needs identified, provide relevant historical data or statistics. Data needs: {data_needs}\"\n",
    "    data_provision_result = history_agent.process(data_provision_task, context)\n",
    "    context.append({\"role\": \"assistant\", \"content\": f\"History Agent: {data_provision_result}\"})\n",
    "    print(f\"📊 Historical data provided: {data_provision_result[:100]}...\\n\")\n",
    "    return context"
   ]
  },
  {
   "cell_type": "markdown",
   "metadata": {},
   "source": [
    "#### Analyze Data"
   ]
  },
  {
   "cell_type": "code",
   "execution_count": 7,
   "metadata": {},
   "outputs": [],
   "source": [
    "def analyze_data(data_agent, task: str, context: list) -> list:\n",
    "    print(\"📈 Data Agent: Analyzing historical data...\")\n",
    "    historical_data = context[-1][\"content\"]\n",
    "    analysis_task = f\"Analyze the historical data provided and describe any trends or insights relevant to the original task. Historical data: {historical_data}\"\n",
    "    analysis_result = data_agent.process(analysis_task, context)\n",
    "    context.append({\"role\": \"assistant\", \"content\": f\"Data Agent: {analysis_result}\"})\n",
    "    print(f\"💡 Data analysis results: {analysis_result[:100]}...\\n\")\n",
    "    return context"
   ]
  },
  {
   "cell_type": "markdown",
   "metadata": {},
   "source": [
    "#### Synthesize Final Answer"
   ]
  },
  {
   "cell_type": "code",
   "execution_count": 8,
   "metadata": {},
   "outputs": [],
   "source": [
    "def synthesize_final_answer(history_agent, task: str, context: list) -> str:\n",
    "    print(\"🏛️ History Agent: Synthesizing final answer...\")\n",
    "    synthesis_task = \"Based on all the historical context, data, and analysis, provide a comprehensive answer to the original task.\"\n",
    "    final_result = history_agent.process(synthesis_task, context)\n",
    "    return final_result"
   ]
  },
  {
   "cell_type": "markdown",
   "metadata": {},
   "source": [
    "### HistoryDataCollaborationSystem Class"
   ]
  },
  {
   "cell_type": "code",
   "execution_count": 9,
   "metadata": {},
   "outputs": [],
   "source": [
    "class HistoryDataCollaborationSystem:\n",
    "    def __init__(self):\n",
    "        self.history_agent = Agent(\"Clio\", \"History Research Specialist\", [\"deep knowledge of historical events\", \"understanding of historical contexts\", \"identifying historical trends\"])\n",
    "        self.data_agent = Agent(\"Data\", \"Data Analysis Expert\", [\"interpreting numerical data\", \"statistical analysis\", \"data visualization description\"])\n",
    "\n",
    "    def solve(self, task: str, timeout: int = 300) -> str:\n",
    "        print(f\"\\n👥 Starting collaboration to solve: {task}\\n\")\n",
    "        \n",
    "        start_time = time.time()\n",
    "        context = []\n",
    "        \n",
    "        steps = [\n",
    "            (research_historical_context, self.history_agent),\n",
    "            (identify_data_needs, self.data_agent),\n",
    "            (provide_historical_data, self.history_agent),\n",
    "            (analyze_data, self.data_agent),\n",
    "            (synthesize_final_answer, self.history_agent)\n",
    "        ]\n",
    "        \n",
    "        for step_func, agent in steps:\n",
    "            if time.time() - start_time > timeout:\n",
    "                return \"Operation timed out. The process took too long to complete.\"\n",
    "            try:\n",
    "                result = step_func(agent, task, context)\n",
    "                if isinstance(result, str):\n",
    "                    return result  # This is the final answer\n",
    "                context = result\n",
    "            except Exception as e:\n",
    "                return f\"Error during collaboration: {str(e)}\"\n",
    "        \n",
    "        print(\"\\n✅ Collaboration complete. Final answer synthesized.\\n\")\n",
    "        return context[-1][\"content\"]"
   ]
  },
  {
   "cell_type": "markdown",
   "metadata": {},
   "source": [
    "### Example usage"
   ]
  },
  {
   "cell_type": "code",
   "execution_count": 10,
   "metadata": {},
   "outputs": [
    {
     "name": "stdout",
     "output_type": "stream",
     "text": [
      "\n",
      "👥 Starting collaboration to solve: How did urbanization rates in Europe compare to those in North America during the Industrial Revolution, and what were the main factors influencing these trends?\n",
      "\n",
      "🏛️ History Agent: Researching historical context...\n",
      "📜 Historical context provided: The Industrial Revolution, which began in the late 18th century and continued into the 19th century,...\n",
      "\n",
      "📊 Data Agent: Identifying data needs based on historical context...\n",
      "🔍 Data needs identified: To analyze the urbanization trends during the Industrial Revolution effectively, specific data and s...\n",
      "\n",
      "🏛️ History Agent: Providing relevant historical data...\n",
      "📊 Historical data provided: Here are relevant historical data and statistics addressing the key data needs outlined for analyzin...\n",
      "\n",
      "📈 Data Agent: Analyzing historical data...\n",
      "💡 Data analysis results: Data Agent: Analyzing the provided historical data reveals several key trends and insights regarding...\n",
      "\n",
      "🏛️ History Agent: Synthesizing final answer...\n",
      "**Comprehensive Analysis of Urbanization During the Industrial Revolution**\n",
      "\n",
      "The Industrial Revolution, which spanned from the late 18th century into the 19th century, was a period of significant transformation that reshaped economies, societies, and urban landscapes, particularly in Europe and North America. This transformation was characterized by a profound shift in population from rural areas to urban centers, driven by a combination of economic opportunities, technological advancements, and social changes. The following analysis provides a comprehensive overview of urbanization during this pivotal period, supported by historical data and context.\n",
      "\n",
      "### Urbanization Trends\n",
      "\n",
      "1. **Rapid Urban Growth:**\n",
      "   - The population of major cities skyrocketed due to industrialization. For example, London’s population grew from approximately 1 million in 1801 to 2.6 million by 1851, while Manchester expanded from 75,000 to 300,000 during the same period. In North America, New York's population surged from 60,000 in 1800 to over 1 million by 1860, and Chicago grew from a mere 4,000 in 1830 to 112,000 by 1860.\n",
      "   - These figures indicate that cities became increasingly attractive as centers of economic activity and opportunities for employment.\n",
      "\n",
      "2. **Declining Rural Population:**\n",
      "   - With the allure of jobs in the burgeoning industrial sector, there was a marked decline in the rural population. England saw the percentage of people living in rural areas decrease from approximately 78% in 1801 to about 50% by 1851.\n",
      "   - This internal migration reflects the shift in labor needs as mechanization in agriculture reduced the demand for farm laborers, pushing many to seek work in urban factories.\n",
      "\n",
      "3. **Economic Transformation:**\n",
      "   - The labor market underwent a significant transformation, with the percentage of workers in agriculture declining while manufacturing and industrial jobs proliferated. By 1850, approximately 50% of the British workforce was still in agriculture, but this number began to drop as manufacturing employment rose, indicating a shift towards an industrial economy.\n",
      "   - The textile industry alone saw employment increase from about 60,000 in 1770 to over 400,000 by 1850, highlighting the substantial growth in this sector.\n",
      "\n",
      "### Influencing Factors\n",
      "\n",
      "1. **Immigration Patterns:**\n",
      "   - The United States experienced a significant influx of immigrants, especially during the 1840s and 1850s, with approximately 2.6 million arriving between 1850 and 1860. Many immigrants came from Ireland and Germany, seeking better economic opportunities and fleeing hardships in their home countries.\n",
      "   - This wave of immigration contributed to urban growth, as newcomers settled in cities, particularly in industrial hubs like New York.\n",
      "\n",
      "2. **Urbanization Rates:**\n",
      "   - The rate of urbanization was striking; Britain’s urban population increased from 20% in 1801 to 50% by 1851, while the United States saw its urban population rise from 6% in 1800 to 20% by 1860. These rates demonstrate the rapid transition to urban living that characterized the era.\n",
      "\n",
      "3. **Infrastructure Development:**\n",
      "   - The expansion of transportation infrastructure played a critical role in facilitating urban growth. The total mileage of railroads in Britain surged from 0 in 1820 to over 6,000 miles by 1850. In North America, the completion of the Erie Canal in 1825 connected rural areas to urban markets, enhancing trade and transportation.\n",
      "   - Improved infrastructure allowed for easier movement of goods and people, effectively linking rural agricultural areas with industrial cities.\n",
      "\n",
      "### Social and Health Challenges\n",
      "\n",
      "1. **Living Conditions:**\n",
      "   - Rapid urbanization often resulted in poor living conditions. For instance, by 1851, many families in London lived in overcrowded, unsanitary conditions, with significant parts of the population facing substandard housing.\n",
      "   - Public health crises were common, as exemplified by cholera outbreaks in urban areas, which highlighted the inadequacies in sanitation and health infrastructure. The 1848 cholera outbreak in London killed over 14,000 people, reflecting the dangers of rapid urban growth without adequate public health planning.\n",
      "\n",
      "2. **Education and Literacy Improvements:**\n",
      "   - Urban areas saw rising literacy rates, from approximately 30% in 1800 to about 50% by 1850. This increase was driven by the need for a more skilled workforce in factories and the impact of educational reforms initiated in the 1830s.\n",
      "   - The growing emphasis on education in urban centers was crucial for preparing individuals for the demands of industrial jobs.\n",
      "\n",
      "### Legislative Impact\n",
      "\n",
      "1. **Regulatory Changes:**\n",
      "   - The introduction of labor laws, such as the Factory Acts starting in 1833, aimed to improve working conditions and address the exploitation faced by workers, particularly women and children in factories.\n",
      "   - The Poor Law Amendment Act\n"
     ]
    }
   ],
   "source": [
    "# Create an instance of the collaboration system\n",
    "collaboration_system = HistoryDataCollaborationSystem()\n",
    "\n",
    "# Define a complex historical question that requires both historical knowledge and data analysis\n",
    "question = \"How did urbanization rates in Europe compare to those in North America during the Industrial Revolution, and what were the main factors influencing these trends?\"\n",
    "\n",
    "# Solve the question using the collaboration system\n",
    "result = collaboration_system.solve(question)\n",
    "\n",
    "# Print the result\n",
    "print(result)"
   ]
  },
  {
   "cell_type": "code",
   "execution_count": null,
   "metadata": {},
   "outputs": [],
   "source": []
  }
 ],
 "metadata": {
  "kernelspec": {
   "display_name": ".venv",
   "language": "python",
   "name": "python3"
  },
  "language_info": {
   "codemirror_mode": {
    "name": "ipython",
    "version": 3
   },
   "file_extension": ".py",
   "mimetype": "text/x-python",
   "name": "python",
   "nbconvert_exporter": "python",
   "pygments_lexer": "ipython3",
   "version": "3.10.16"
  }
 },
 "nbformat": 4,
 "nbformat_minor": 2
}
