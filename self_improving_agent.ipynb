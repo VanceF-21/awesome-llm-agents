{
 "cells": [
  {
   "cell_type": "markdown",
   "metadata": {},
   "source": [
    "# Self-Improving Agent Tutorial\n",
    "\n",
    "## Overview\n",
    "This tutorial demonstrates the implementation of a Self-Improving Agent with pure Python. The agent is designed to engage in conversations, learn from its interactions, and continuously improve its performance over time.\n",
    "\n",
    "## Motivation\n",
    "As AI systems become more integrated into our daily lives, there's a growing need for agents that can adapt and improve based on their interactions. This self-improving agent serves as a practical example of how we can create AI systems that don't just rely on their initial training, but continue to evolve and enhance their capabilities through ongoing interactions.\n",
    "\n",
    "## Key Components\n",
    "\n",
    "1. **Language Model**: The core of the agent, responsible for generating responses and processing information.\n",
    "2. **Chat History Management**: Keeps track of conversations for context and learning.\n",
    "3. **Response Generation**: Produces relevant replies to user inputs.\n",
    "4. **Reflection Mechanism**: Analyzes past interactions to identify areas for improvement.\n",
    "5. **Learning System**: Incorporates insights from reflection to enhance future performance.\n",
    "\n",
    "## Method Details\n",
    "\n",
    "### Initialization\n",
    "The agent is initialized with a language model, a conversation store, and a system for managing prompts and chains. This setup allows the agent to maintain context across multiple interactions and sessions.\n",
    "\n",
    "### Response Generation\n",
    "When the agent receives input, it considers the current conversation history and any recent insights gained from learning. This context-aware approach allows for more coherent and improving responses over time.\n",
    "\n",
    "### Reflection Process\n",
    "After a series of interactions, the agent reflects on its performance. It analyzes the conversation history to identify patterns, potential improvements, and areas where it could have provided better responses.\n",
    "\n",
    "### Learning Mechanism\n",
    "Based on the reflections, the agent generates learning points. These are concise summaries of how it can improve, which are then incorporated into its knowledge base and decision-making process for future interactions.\n",
    "\n",
    "### Continuous Improvement Loop\n",
    "The cycle of interaction, reflection, and learning creates a feedback loop that allows the agent to continuously refine its responses and adapt to different conversation styles and topics.\n",
    "\n",
    "## Conclusion\n",
    "This Self-Improving Agent demonstrates a practical implementation of an AI system that can learn and adapt from its interactions. By combining the power of large language models with mechanisms for reflection and learning, we create an agent that not only provides responses but also improves its capabilities over time.\n",
    "\n",
    "This approach opens up exciting possibilities for creating more dynamic and adaptable AI assistants, chatbots, and other conversational AI applications. As we continue to refine these techniques, we move closer to AI systems that can truly learn and grow from their experiences, much like humans do."
   ]
  },
  {
   "cell_type": "markdown",
   "metadata": {},
   "source": [
    "## Imports and Setup\n",
    "\n",
    "First, we'll import the necessary libraries and load our environment variables."
   ]
  },
  {
   "cell_type": "code",
   "execution_count": 2,
   "metadata": {},
   "outputs": [],
   "source": [
    "from openai import OpenAI\n",
    "import os\n",
    "from dotenv import load_dotenv\n",
    "\n",
    "# Initialize OpenAI client\n",
    "client = OpenAI()\n",
    "\n",
    "# Load environment variables\n",
    "load_dotenv()\n",
    "openai_api_key = os.getenv(\"OPENAI_API_KEY\")\n",
    "openai_base_url = os.getenv(\"OPENAI_BASE_URL\")"
   ]
  },
  {
   "cell_type": "markdown",
   "metadata": {},
   "source": [
    "## Helper Functions\n",
    "\n",
    "We'll define helper functions for each capability of our agent\n",
    "\n",
    "### Chat History Management"
   ]
  },
  {
   "cell_type": "code",
   "execution_count": 8,
   "metadata": {},
   "outputs": [],
   "source": [
    "class ChatMessageHistory:\n",
    "    def __init__(self):\n",
    "        self.messages = []\n",
    "\n",
    "    def add_message(self, role, content):\n",
    "        self.messages.append({\"role\": role, \"content\": content})\n",
    "\n",
    "    def get_history(self):\n",
    "        return self.messages"
   ]
  },
  {
   "cell_type": "markdown",
   "metadata": {},
   "source": [
    "### Reflection"
   ]
  },
  {
   "cell_type": "code",
   "execution_count": 9,
   "metadata": {},
   "outputs": [],
   "source": [
    "def reflect(history):\n",
    "    \"\"\"Generate insights from the conversation history\"\"\"\n",
    "    prompt = \"Based on the following conversation history, provide insights on how to improve responses:\\n\"\n",
    "    messages = [\n",
    "        {\n",
    "            \"role\": \"system\",\n",
    "            \"content\": prompt,\n",
    "        }\n",
    "    ]\n",
    "    for message in history:\n",
    "        messages.append({\"role\": message['role'], \"content\": message['content']})\n",
    "    \n",
    "    messages.append({\"role\": \"system\", \"content\": \"Generate insights for improvement:\"})\n",
    "\n",
    "    response = client.chat.completions.create(\n",
    "        model=\"gpt-4o-mini\",\n",
    "        messages=messages,\n",
    "        temperature=0.7,\n",
    "        max_tokens=100,\n",
    "    )\n",
    "    return response.choices[0].message.content"
   ]
  },
  {
   "cell_type": "markdown",
   "metadata": {},
   "source": [
    "### Learning"
   ]
  },
  {
   "cell_type": "code",
   "execution_count": 10,
   "metadata": {},
   "outputs": [],
   "source": [
    "def learn(insights):\n",
    "    \"\"\"Update the agent's knowledge and behavior based on insights\"\"\"\n",
    "    prompt = f\"Based on these insights, update the agent's knowledge and behavior:\\n{insights}\\nSummarize the key points to remember:\"\n",
    "    messages = [\n",
    "        {\"role\": \"system\", \"content\": \"You are an AI agent that learns from its interactions.\"},\n",
    "        {\"role\": \"user\", \"content\": prompt}\n",
    "    ]\n",
    "    \n",
    "    response = client.chat.completions.create(\n",
    "        model=\"gpt-4o-mini\",\n",
    "        messages=messages,\n",
    "        max_tokens=100,\n",
    "        temperature=0.7\n",
    "    )\n",
    "    return response.choices[0].message.content"
   ]
  },
  {
   "cell_type": "markdown",
   "metadata": {},
   "source": [
    "## Self-Improving Agent Class\n",
    "\n",
    "Now we'll define our `SelfImprovingAgent` class that uses these functions."
   ]
  },
  {
   "cell_type": "code",
   "execution_count": 13,
   "metadata": {},
   "outputs": [],
   "source": [
    "class SelfImprovingAgent:\n",
    "    def __init__(self):\n",
    "        self.llm_model = \"gpt-4o-mini\"\n",
    "        self.store = {}\n",
    "        self.insights = \"\"\n",
    "        \n",
    "    def get_chat_history(self, session_id: str):\n",
    "        \"\"\"Get or create a new chat history for a given session ID\"\"\"\n",
    "        if session_id not in self.store:\n",
    "            self.store[session_id] = ChatMessageHistory()\n",
    "        return self.store[session_id]\n",
    "\n",
    "    def respond(self, human_input: str, session_id: str):\n",
    "        \"\"\"Get a response from the agent, considering the chat history\"\"\"\n",
    "        history = self.get_chat_history(session_id).get_history()\n",
    "        \n",
    "        prompt = \"You are an AI assistant. Given the conversation history, generate a response to the following input:\\n\"\n",
    "        messages = [\n",
    "            {\"role\": \"system\", \"content\": prompt},\n",
    "        ]\n",
    "        for message in history:\n",
    "            messages.append({\"role\": message[\"role\"], \"content\": message[\"content\"]})\n",
    "        messages.append({\"role\": \"user\", \"content\": human_input})\n",
    "\n",
    "        response = client.chat.completions.create(\n",
    "            model=self.llm_model,\n",
    "            messages=messages,\n",
    "            max_tokens=150,\n",
    "            temperature=0.7\n",
    "        )\n",
    "        ai_response = response.choices[0].message.content\n",
    "\n",
    "        # Add the user input and AI response to the chat history\n",
    "        self.get_chat_history(session_id).add_message(\"user\", human_input)\n",
    "        self.get_chat_history(session_id).add_message(\"assistant\", ai_response)\n",
    "        \n",
    "        return ai_response\n",
    "\n",
    "    def reflect_and_learn(self, session_id: str):\n",
    "        \"\"\"Reflect on the conversation history and learn from it\"\"\"\n",
    "        history = self.get_chat_history(session_id).get_history()\n",
    "        self.insights = reflect(history)\n",
    "        \n",
    "        learned_points = learn(self.insights)\n",
    "        \n",
    "        self.get_chat_history(session_id).add_message(\"system\", f\"[SYSTEM] Agent learned: {learned_points}\")\n",
    "        \n",
    "        return learned_points"
   ]
  },
  {
   "cell_type": "markdown",
   "metadata": {},
   "source": [
    "## Example Usage\n",
    "\n",
    "Let's create an instance of our agent and interact with it to demonstrate its self-improving capabilities."
   ]
  },
  {
   "cell_type": "code",
   "execution_count": 14,
   "metadata": {},
   "outputs": [
    {
     "name": "stdout",
     "output_type": "stream",
     "text": [
      "AI: The capital of France is Paris.\n",
      "AI: Certainly! Paris has a rich and complex history that dates back over 2,000 years. Originally founded by a Celtic tribe known as the Parisii around the 3rd century BC, it was later conquered by the Romans in 52 BC and became a significant city in the Roman Empire, known as Lutetia.\n",
      "\n",
      "In the Middle Ages, Paris grew in importance as a religious and cultural center, becoming the capital of the Kingdom of France in the 10th century. The city played a crucial role during the French Revolution in the late 18th century, as it was the site of many key events, including the storming of the Bastille in 1789.\n",
      "\n",
      "Throughout the 19th century, Paris underwent significant changes, including\n",
      "\n",
      "Reflecting and learning...\n",
      "Learned: Here are the key points to remember for updating the agent's knowledge and behavior:\n",
      "\n",
      "1. **Depth of Information**: Enhance responses by including detailed information about specific events, cultural developments, and significant figures in Paris's history to provide a richer context.\n",
      "\n",
      "2. **Chronological Structure**: Organize historical information in a clear chronological order with distinct time periods (e.g., ancient, medieval, modern) to help users follow the progression of events more easily.\n",
      "\n",
      "3. **Engagement**: Improve\n",
      "\n",
      "AI: One of the most famous landmarks in Paris is the Eiffel Tower. Completed in 1889 for the Exposition Universelle (World's Fair), it was designed by the engineer Gustave Eiffel. Standing at approximately 1,083 feet (330 meters) tall, it was the tallest man-made structure in the world at the time of its completion and remains an iconic symbol of both Paris and France.\n",
      "\n",
      "The Eiffel Tower is not just a stunning architectural marvel; it also offers breathtaking views of the city from its observation decks. Over the years, it has become a popular tourist attraction, drawing millions of visitors each year. The tower is beautifully illuminated at night, adding to its charm and allure.\n",
      "\n",
      "In addition to the Eiffel Tower, Paris is home to many\n",
      "AI: Another interesting fact about Paris is that it is often referred to as \"The City of Light\" (La Ville Lumière). This nickname originally stemmed from the city's role as a center of education and ideas during the Age of Enlightenment in the 18th century. Many influential philosophers, writers, and artists, such as Voltaire and Rousseau, lived and worked in Paris, shaping modern thought and culture.\n",
      "\n",
      "Additionally, the nickname also reflects the city's early adoption of street lighting. Paris was one of the first cities to install gas streetlights, beginning in the early 19th century, which helped make the city safer and more vibrant at night. Today, Paris continues to be known for its cultural richness, artistic heritage, and enchanting ambiance,\n"
     ]
    }
   ],
   "source": [
    "agent = SelfImprovingAgent()\n",
    "session_id = \"user_123\"\n",
    "\n",
    "# Interaction 1\n",
    "print(\"AI:\", agent.respond(\"What's the capital of France?\", session_id))\n",
    "\n",
    "# Interaction 2\n",
    "print(\"AI:\", agent.respond(\"Can you tell me more about its history?\", session_id))\n",
    "\n",
    "# Learn and improve\n",
    "print(\"\\nReflecting and learning...\")\n",
    "learned = agent.reflect_and_learn(session_id)\n",
    "print(\"Learned:\", learned)\n",
    "\n",
    "# Interaction 3 (potentially improved based on learning)\n",
    "print(\"\\nAI:\", agent.respond(\"What's a famous landmark in this city?\", session_id))\n",
    "\n",
    "# Interaction 4 (to demonstrate continued improvement)\n",
    "print(\"AI:\", agent.respond(\"What's another interesting fact about this city?\", session_id))"
   ]
  }
 ],
 "metadata": {
  "kernelspec": {
   "display_name": "pytorch",
   "language": "python",
   "name": "python3"
  },
  "language_info": {
   "codemirror_mode": {
    "name": "ipython",
    "version": 3
   },
   "file_extension": ".py",
   "mimetype": "text/x-python",
   "name": "python",
   "nbconvert_exporter": "python",
   "pygments_lexer": "ipython3",
   "version": "3.10.16"
  }
 },
 "nbformat": 4,
 "nbformat_minor": 2
}
